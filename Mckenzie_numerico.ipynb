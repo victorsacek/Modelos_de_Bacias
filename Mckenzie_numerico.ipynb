{
 "cells": [
  {
   "cell_type": "code",
   "execution_count": null,
   "metadata": {
    "collapsed": true
   },
   "outputs": [],
   "source": [
    "%matplotlib inline\n",
    "from __future__ import division, print_function\n",
    "\n",
    "import numpy as np\n",
    "import matplotlib.pyplot as plt"
   ]
  },
  {
   "cell_type": "code",
   "execution_count": null,
   "metadata": {
    "collapsed": false
   },
   "outputs": [],
   "source": [
    "aL = 125000 #espessura da litosfera em m\n",
    "z = np.arange(-aL,0.1,1000)\n",
    "dz = abs(z[1]-z[0])\n",
    "print(dz)"
   ]
  },
  {
   "cell_type": "code",
   "execution_count": null,
   "metadata": {
    "collapsed": false
   },
   "outputs": [],
   "source": [
    "T1 = 1300\n",
    "\n",
    "beta = 3\n",
    "T = -beta*1300*z/aL\n",
    "T[(T>1300)]=1300\n",
    "plt.plot(T,z/1000)\n",
    "\n",
    "somaT1 = np.sum(T)*dz\n",
    "\n",
    "t = 0.\n",
    "SPA = 365.*24.*60.*60.\n",
    "\n",
    "dt = SPA*10000\n",
    "kappa = 0.8E-6\n",
    "\n",
    "t_print = 2.0*1E6*SPA\n",
    "\n",
    "tempo_max = 200.0E6*SPA\n",
    "\n",
    "tempo = np.arange(0,tempo_max,t_print)\n",
    "sub = tempo*0\n",
    "flux = tempo*0\n",
    "\n",
    "cont = 1\n",
    "rhom = 3300.\n",
    "rhow = 1000.\n",
    "alpha = 3.28E-5\n",
    "g = 10.\n",
    "\n",
    "KT = 3.2\n",
    "\n",
    "flux[0]=KT*(T[-2]-T[-1])/dz\n",
    "\n",
    "while t<tempo_max:\n",
    "    \n",
    "    T[1:-1]=T[1:-1]+(dt*kappa/dz/dz)*(T[2:]-2*T[1:-1]+T[0:-2])\n",
    "    \n",
    "    if t==t_print:\n",
    "        t_print = t_print+ 2.0*1E6*SPA\n",
    "        plt.plot(T,z/1000,\"b\")\n",
    "        somaT2 = np.sum(T)*dz\n",
    "        sub[cont]=rhom*alpha*(somaT1-somaT2)/(rhom-rhow)\n",
    "        flux[cont]=KT*(T[-2]-T[-1])/dz\n",
    "        cont = cont+1\n",
    "        \n",
    "    t = t +dt"
   ]
  },
  {
   "cell_type": "code",
   "execution_count": null,
   "metadata": {
    "collapsed": false
   },
   "outputs": [],
   "source": [
    "plt.plot(tempo/(1E6*SPA),flux*1000)"
   ]
  },
  {
   "cell_type": "code",
   "execution_count": null,
   "metadata": {
    "collapsed": true
   },
   "outputs": [],
   "source": []
  }
 ],
 "metadata": {
  "kernelspec": {
   "display_name": "Python 2",
   "language": "python",
   "name": "python2"
  },
  "language_info": {
   "codemirror_mode": {
    "name": "ipython",
    "version": 2
   },
   "file_extension": ".py",
   "mimetype": "text/x-python",
   "name": "python",
   "nbconvert_exporter": "python",
   "pygments_lexer": "ipython2",
   "version": "2.7.11"
  }
 },
 "nbformat": 4,
 "nbformat_minor": 0
}
