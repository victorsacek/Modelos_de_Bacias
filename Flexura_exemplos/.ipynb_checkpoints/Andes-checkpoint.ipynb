{
 "cells": [
  {
   "cell_type": "code",
   "execution_count": null,
   "metadata": {
    "collapsed": true
   },
   "outputs": [],
   "source": [
    "%matplotlib inline\n",
    "\n",
    "from __future__ import division, print_function\n",
    "\n",
    "import numpy as np\n",
    "import matplotlib.pyplot as plt\n",
    "from scipy import sparse #import bsr_matrix\n",
    "from scipy.sparse.linalg import dsolve"
   ]
  },
  {
   "cell_type": "markdown",
   "metadata": {},
   "source": [
    "# Aplicando o modelo numérico em um caso real: Andes\n",
    "\n",
    "A Cordilheira dos Andes representa uma carga sobre a placa da América do Sul, resultando em deflexões expressivas da superfície. Porém devido aos processos superficiais de erosão e sedimentação, essas depressões próximas à cordilheira são preenchidas por sedimentos, formando grandes bacias sedimentares denominadas de bacias de antepaís, ou bacia de *foreland*. Um exemplo de bacia é a Bacia de Beni, próxima aos Andes bolivianos.\n",
    "\n",
    "![](Beni_geology.jpg)"
   ]
  },
  {
   "cell_type": "markdown",
   "metadata": {},
   "source": [
    "Para estimarmos a espessura elástica efetiva da placa da América do Sul nesta região, vamos tentar ajustar a curva de flexura resultante da carga da Cordilheira dos Andes com o embasamento da Bacia de Beni. Para isso utilize o arquivo contendo o perfil topográfico dos Andes (Andes_profile.txt) e a curva do embasamento de um segmento da Bacia de Beni (\"Beni.txt\"):"
   ]
  },
  {
   "cell_type": "code",
   "execution_count": null,
   "metadata": {
    "collapsed": false
   },
   "outputs": [],
   "source": [
    "a = np.loadtxt(\"Andes_profile.txt\")\n",
    "\n",
    "xo = a[:,0]\n",
    "ho = a[:,1]\n",
    "\n",
    "plt.plot(xo,ho,\"k\")\n",
    "\n",
    "N = 1000/5 + 1\n",
    "\n",
    "x = np.linspace(0,1000,N)\n",
    "h = np.interp(x,xo,ho)\n",
    "\n",
    "b = np.loadtxt(\"Beni.txt\")\n",
    "\n",
    "xb = b[:,0]\n",
    "hb = b[:,1]\n",
    "\n",
    "plt.plot(x,h,\"b\",xb,hb,\"r\")"
   ]
  },
  {
   "cell_type": "code",
   "execution_count": null,
   "metadata": {
    "collapsed": false
   },
   "outputs": [],
   "source": [
    "h_load = np.copy(h)\n",
    "h_load[(x>280)]=0\n",
    "\n",
    "plt.plot(x,h_load)"
   ]
  },
  {
   "cell_type": "code",
   "execution_count": null,
   "metadata": {
    "collapsed": true
   },
   "outputs": [],
   "source": []
  }
 ],
 "metadata": {
  "kernelspec": {
   "display_name": "Python 2",
   "language": "python",
   "name": "python2"
  },
  "language_info": {
   "codemirror_mode": {
    "name": "ipython",
    "version": 2
   },
   "file_extension": ".py",
   "mimetype": "text/x-python",
   "name": "python",
   "nbconvert_exporter": "python",
   "pygments_lexer": "ipython2",
   "version": "2.7.11"
  }
 },
 "nbformat": 4,
 "nbformat_minor": 0
}
