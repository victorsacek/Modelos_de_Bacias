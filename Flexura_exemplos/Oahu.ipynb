{
 "cells": [
  {
   "cell_type": "code",
   "execution_count": null,
   "metadata": {
    "collapsed": true
   },
   "outputs": [],
   "source": [
    "%matplotlib inline\n",
    "\n",
    "from __future__ import division, print_function\n",
    "\n",
    "import numpy as np\n",
    "import matplotlib.pyplot as plt"
   ]
  },
  {
   "cell_type": "markdown",
   "metadata": {},
   "source": [
    "# Aplicando o modelo numérico em um caso real\n",
    "\n",
    "A cadeia de montes submarinos do Havaí representa uma carga topográfica sobre a litosfera oceânica da Placa do Pacífico que pode ser aproximada por uma carga linear. Desse modo pode ser simulado pelo nosso modelo numérico 1D."
   ]
  },
  {
   "cell_type": "markdown",
   "metadata": {},
   "source": [
    "A figura a seguir apresenta um mapa batimétrico do arquipélago do Havaí e regiões adjacentes. Podemos ver que ao redor dos maiores montes vulcânicos há uma sutil depressão que originou-se pela carga topográfica. Sobreposto a este efeito flexural observamos uma feição de longo comprimento de onda que representa um soerguimento regional ao longo da cadeia do Havaí. Este soerguimento é originado pela expansão térmica do manto aquecido nesta região.\n",
    "\n",
    "![](Havai.png)"
   ]
  },
  {
   "cell_type": "markdown",
   "metadata": {},
   "source": [
    "Sobre o mapa batimétrico, extraiu-se um perfil sobre a ilha de Oahu, indicado na figura pela curva preta.\n",
    "\n",
    "Para visualizarmos esse perfil, vamos carregar o arquivo __Oahu_profile.txt__ utilizando a função __loadtxt__ e criando um vetor `x` e um vetor `h` com os valores da primeira e segunda coluna, respectivamente. Utilize a função plot para visualizar o perfil. "
   ]
  },
  {
   "cell_type": "code",
   "execution_count": null,
   "metadata": {
    "collapsed": false
   },
   "outputs": [],
   "source": [
    "%less Oahu_profile.txt"
   ]
  },
  {
   "cell_type": "code",
   "execution_count": null,
   "metadata": {
    "collapsed": false
   },
   "outputs": [],
   "source": [
    "a = np.loadtxt(\"Oahu_profile.txt\")\n",
    "\n",
    "x = a[:,0]\n",
    "h = a[:,1]\n",
    "\n",
    "plt.plot(x,h,\"k\")\n",
    "\n",
    "plt.plot([0,1200],[0,0],\"b\")"
   ]
  },
  {
   "cell_type": "markdown",
   "metadata": {},
   "source": [
    "Para estudarmos o efeito flexural apenas da carga topográfica, vamos remover o soerguimento regional criado pelo manto aquecido sob a placa litosférica. Para isso crie um vetor para armazenar a componente regional aproximada por uma curva gaussiana:\n",
    "\n",
    "$$ h_{reg} = h_{base} + h_0 \\exp \\left( \n",
    "-\\frac{(x-x_0)^2}{\\sigma'^2}\n",
    "\\right)$$\n",
    "\n",
    "Plote a curva regional juntamente com o perfil original."
   ]
  },
  {
   "cell_type": "code",
   "execution_count": null,
   "metadata": {
    "collapsed": false
   },
   "outputs": [],
   "source": [
    "h_base = -6000\n",
    "h0 = \n",
    "x0 = 620\n",
    "sigma = \n",
    "\n",
    "\n",
    "reg = h_base+h0*np.exp(-((x-x0)/sigma)**2)\n",
    "\n",
    "plt.plot(x,h,\"k\",x,reg,\"b\")"
   ]
  },
  {
   "cell_type": "markdown",
   "metadata": {},
   "source": [
    "Remova a componente regional do perfil original e obtenha um perfil corrigido."
   ]
  },
  {
   "cell_type": "code",
   "execution_count": null,
   "metadata": {
    "collapsed": false
   },
   "outputs": [],
   "source": [
    "h_cor = "
   ]
  },
  {
   "cell_type": "markdown",
   "metadata": {},
   "source": [
    "Crie um vetor que irá armazenar a carga topográfica relacionada apenas a porção central do perfil, ou seja, considerando apenas o cone vulcânico."
   ]
  },
  {
   "cell_type": "code",
   "execution_count": null,
   "metadata": {
    "collapsed": false
   },
   "outputs": [],
   "source": [
    "h_load = np.copy(h_cor)\n",
    "\n",
    "h_load[(x<510) | (x>649)]=0\n",
    "\n",
    "plt.plot(x,h_load)"
   ]
  },
  {
   "cell_type": "markdown",
   "metadata": {},
   "source": [
    "Com o vetor com a topografia da carga, vamos criar o vetor de carga \n",
    "$$p=-h_{load} (\\rho_r-\\rho_w)g = -h_{load} \\ (2700-1000)\\times 10$$"
   ]
  },
  {
   "cell_type": "code",
   "execution_count": null,
   "metadata": {
    "collapsed": true
   },
   "outputs": [],
   "source": []
  },
  {
   "cell_type": "markdown",
   "metadata": {},
   "source": [
    "Calcule a resposta flexural da litosfera usando o modelo numérico deduzido na aula passada"
   ]
  },
  {
   "cell_type": "code",
   "execution_count": null,
   "metadata": {
    "collapsed": true
   },
   "outputs": [],
   "source": []
  },
  {
   "cell_type": "markdown",
   "metadata": {},
   "source": [
    "Usando a classe criada e os vetores x e p, determine a espessura elástica $T_e$ da placa ao redor do Havaí."
   ]
  },
  {
   "cell_type": "code",
   "execution_count": null,
   "metadata": {
    "collapsed": true
   },
   "outputs": [],
   "source": []
  }
 ],
 "metadata": {
  "kernelspec": {
   "display_name": "Python 2",
   "language": "python",
   "name": "python2"
  },
  "language_info": {
   "codemirror_mode": {
    "name": "ipython",
    "version": 2
   },
   "file_extension": ".py",
   "mimetype": "text/x-python",
   "name": "python",
   "nbconvert_exporter": "python",
   "pygments_lexer": "ipython2",
   "version": "2.7.11"
  }
 },
 "nbformat": 4,
 "nbformat_minor": 0
}
