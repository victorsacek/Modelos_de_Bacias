{
 "cells": [
  {
   "cell_type": "code",
   "execution_count": 2,
   "metadata": {
    "collapsed": true
   },
   "outputs": [],
   "source": [
    "%matplotlib inline\n",
    "from __future__ import division, print_function\n",
    "\n",
    "import numpy as np\n",
    "import matplotlib.pyplot as plt"
   ]
  },
  {
   "cell_type": "markdown",
   "metadata": {},
   "source": [
    "Sabendo-se que a estrutura térmica da litosfera no modelo de McKenzie é dada pela seguinte expressão:\n",
    "$$\n",
    "\\frac{T}{T_1}=-\\frac{z}{a_L}+\\frac{2}{\\pi} \\sum_{n=1}^\\infty \\frac{-1}{n}\n",
    "\\left[ \\frac{\\beta}{n\\pi}\\sin\\frac{n\\pi}{\\beta}\\right] \\times\n",
    "\\exp\\left(\\frac{-n^2t}{\\tau}\\right) \\sin\\frac{n\\pi z}{a_L}\n",
    "$$\n",
    "onde\n",
    "$$\\tau=\\frac{a_L^2}{\\pi^2 \\kappa}$$ "
   ]
  },
  {
   "cell_type": "markdown",
   "metadata": {},
   "source": [
    "Podemos calcular o fluxo térmico $F$ na superfície ($z=0$) como sendo $$F = -k_T \\frac{\\partial T}{\\partial z}$$ "
   ]
  },
  {
   "cell_type": "markdown",
   "metadata": {},
   "source": [
    "Assim\n",
    "$$\n",
    "F(t) = \\frac{k_TT_1}{a_L} \\left\\{ 1 + 2\\sum_{n=1}^\\infty \n",
    "\\left[ \\frac{\\beta}{n\\pi}\\sin\\frac{n\\pi}{\\beta}\\right] \\times\n",
    "\\exp\\left(\\frac{-n^2t}{\\tau}\\right) \\right\\}\n",
    "$$"
   ]
  },
  {
   "cell_type": "markdown",
   "metadata": {},
   "source": [
    "Com essa expressão, escreva o fluxo térmico em função do tempo."
   ]
  },
  {
   "cell_type": "code",
   "execution_count": 3,
   "metadata": {
    "collapsed": false
   },
   "outputs": [],
   "source": [
    "aL = 125000\n",
    "SPA = 365.*24.*60.*60.\n",
    "beta = 2.8\n",
    "T1 = 1300.0\n",
    "KT = 3.2\n",
    "Tau = aL*aL/(np.pi*np.pi*kappa)\n",
    "t=0.0\n",
    "\n",
    "tempo = np.arange(0,201.0E6*SPA,1.0E6*SPA)\n",
    "\n",
    "#escreva aqui a expressão para o fluxo térmico"
   ]
  }
 ],
 "metadata": {
  "kernelspec": {
   "display_name": "Python 2",
   "language": "python",
   "name": "python2"
  },
  "language_info": {
   "codemirror_mode": {
    "name": "ipython",
    "version": 2
   },
   "file_extension": ".py",
   "mimetype": "text/x-python",
   "name": "python",
   "nbconvert_exporter": "python",
   "pygments_lexer": "ipython2",
   "version": "2.7.11"
  }
 },
 "nbformat": 4,
 "nbformat_minor": 0
}
