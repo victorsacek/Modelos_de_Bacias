{
 "cells": [
  {
   "cell_type": "code",
   "execution_count": null,
   "metadata": {
    "collapsed": false
   },
   "outputs": [],
   "source": [
    "%matplotlib inline\n",
    "from __future__ import division, print_function\n",
    "\n",
    "import numpy as np\n",
    "import matplotlib.pyplot as plt"
   ]
  },
  {
   "cell_type": "markdown",
   "metadata": {},
   "source": [
    "No modelo de McKenzie (1978), uma porção da litosfera de largura $a_L$ é instantaneamente estirada até atingir o comprimento $a_L \\beta$, resultando em um soerguimento do manto astenosférico. Após isto, a perturbação térmica é gradualmente dissipada por difusão térmica, restaurando o perfil de temperatura anterior ao estiramento.\n",
    "\n",
    "Neste modelo a temperatura $T$ é função do tempo $t$ e da profundidade $z$ ($T=T(t,z)$). A equação que rege a condução térmica é dada por:\n",
    "$$\n",
    "\\frac{\\partial T}{\\partial t}=\n",
    "\\kappa \\frac{\\partial^2 T}{\\partial z^2}\n",
    "$$\n",
    "onde $\\kappa$ é a difusividade térmica do material dado por\n",
    "$$\n",
    "\\kappa = \\frac{k_T}{\\rho c}\n",
    "$$\n",
    "sendo $k_T$ a condutividade térmica do meio, $\\rho$ a densidade da rocha e $c$ o calor específico.\n",
    "\n",
    "\n",
    "Antes do estiramento, o perfil de temperatura está em equilíbrio, variando linearmente com a profundidade, de $T=T_1$ na base da litosfera ($z=-a_L$) para $T=0$ na superfície ($z=0$). Logo após o estiramento litosférico, em $t=0$, o perfil de temperatura é\n",
    "\n",
    "$$\n",
    "T=T_1 \\frac{-z}{a_L/\\beta} \\quad \\mbox{para} \\quad -a_L/\\beta < z \\leq 0\n",
    "$$\n",
    "\n",
    "$$\n",
    "T=T_1 \\quad \\mbox{para} \\quad -a_L < z \\leq -a_L/\\beta.\n",
    "$$\n",
    "\n",
    "A evolução térmica da litosfera é dada por\n"
   ]
  },
  {
   "cell_type": "markdown",
   "metadata": {
    "collapsed": true
   },
   "source": [
    "$$\n",
    "\\frac{T}{T_1}=-\\frac{z}{a_L}+\\frac{2}{\\pi} \\sum_{n=0}^\\infty \\frac{-1}{n}\n",
    "\\left[ \\frac{\\beta}{n\\pi}\\sin\\frac{n\\pi}{\\beta}\\right] \\times\n",
    "\\exp\\left(\\frac{-n^2t}{\\tau}\\right) \\sin\\frac{n\\pi z}{a_L}\n",
    "$$\n",
    "onde\n",
    "$$\\tau=\\frac{a_L^2}{\\pi^2 \\kappa}$$ "
   ]
  },
  {
   "cell_type": "markdown",
   "metadata": {},
   "source": [
    "Para visualizarmos a evolução da temperatura com o tempo vamos reescrever a expressão para a temperatura em Python. Primeiramente vamos criar o domínio em $z$ variando de $-a_L$ até $0$. Para isto vamos usar o comando arange."
   ]
  },
  {
   "cell_type": "code",
   "execution_count": null,
   "metadata": {
    "collapsed": false
   },
   "outputs": [],
   "source": [
    "aL = 125000 #espessura da litosfera em m\n",
    "z = np.arange(-aL,0.1,1000)"
   ]
  },
  {
   "cell_type": "markdown",
   "metadata": {},
   "source": [
    "Agora vamos escrever a expressão para a temperatura:"
   ]
  },
  {
   "cell_type": "code",
   "execution_count": null,
   "metadata": {
    "collapsed": false
   },
   "outputs": [],
   "source": [
    "SPA = 365.*24.*60.*60.\n",
    "beta = 4\n",
    "T1 = 1300.0\n",
    "kappa = 1.0E-6\n",
    "Tau = aL*aL/(np.pi*np.pi*kappa)\n",
    "t=0.0\n",
    "#loop do tempo\n",
    "while t<200.0E6*SPA:\n",
    "    \n",
    "    T = -z/aL\n",
    "    n=1\n",
    "    \n",
    "    #escreva aqui a expressão para a temperatura T\n",
    "    \n",
    "    t = t+ 10.0*1E6*SPA\n",
    "    plt.plot(T,z/1000,\"b\")"
   ]
  },
  {
   "cell_type": "markdown",
   "metadata": {},
   "source": [
    "Vamos agora determinar a subsidência tectônica dada pela seguinte expressão:\n",
    "$$\n",
    "e(t) = \\frac{a_L \\rho_0 \\alpha T_1}{\\rho_0-\\rho_w} \\left \\{\n",
    "\\frac{4}{\\pi^2}\n",
    "\\sum_{m=0}^\\infty \\frac{1}{(2m+1)^2}\\times \\left[\n",
    "\\frac{\\beta}{(2m+1)\\pi} \\sin \\frac{(2m+1)\\pi}{\\beta}\n",
    "\\right]\n",
    "\\exp \\left(\n",
    "-(2m+1)^2 \\frac{t}{\\tau}\n",
    "\\right)\n",
    "\\right \\}\n",
    "$$"
   ]
  },
  {
   "cell_type": "code",
   "execution_count": null,
   "metadata": {
    "collapsed": true
   },
   "outputs": [],
   "source": [
    "rho0 = 3300.\n",
    "rhow = 1000.\n",
    "alpha = 3.28E-5\n",
    "\n",
    "escala = (4/(np.pi**2))*aL*rho0*alpha*T1/(rho0-rhow)"
   ]
  },
  {
   "cell_type": "code",
   "execution_count": null,
   "metadata": {
    "collapsed": false
   },
   "outputs": [],
   "source": [
    "tempo = np.arange(0,201.0E6*SPA,1.0E6*SPA)"
   ]
  },
  {
   "cell_type": "code",
   "execution_count": null,
   "metadata": {
    "collapsed": false
   },
   "outputs": [],
   "source": [
    "m=0\n",
    "es = tempo*0\n",
    "\n",
    "#escreva aqui a expressão para a função e(t)\n",
    "    \n",
    "es = es*escala\n",
    "\n",
    "subsidencia = es[0]-es\n",
    "    \n",
    "plt.plot(tempo/(SPA*1E6),subsidencia,\"k\")\n",
    "plt.ylim([3000,0])"
   ]
  },
  {
   "cell_type": "code",
   "execution_count": null,
   "metadata": {
    "collapsed": true
   },
   "outputs": [],
   "source": [
    "Tempo1,Sub1 = np.loadtxt(\"COST-B2_lower.txt\",unpack=True)\n",
    "Tempo2,Sub2 = np.loadtxt(\"COST-B2_upper.txt\",unpack=True)"
   ]
  },
  {
   "cell_type": "code",
   "execution_count": null,
   "metadata": {
    "collapsed": false
   },
   "outputs": [],
   "source": [
    "shift_v = 500\n",
    "plt.plot(Tempo1+40,Sub1-shift_v,\"r\")\n",
    "plt.plot(Tempo2+40,Sub2-shift_v,\"r\")\n",
    "plt.plot(tempo/(SPA*1E6),-subsidencia,\"k\")"
   ]
  }
 ],
 "metadata": {
  "kernelspec": {
   "display_name": "Python 2",
   "language": "python",
   "name": "python2"
  },
  "language_info": {
   "codemirror_mode": {
    "name": "ipython",
    "version": 2
   },
   "file_extension": ".py",
   "mimetype": "text/x-python",
   "name": "python",
   "nbconvert_exporter": "python",
   "pygments_lexer": "ipython2",
   "version": "2.7.11"
  }
 },
 "nbformat": 4,
 "nbformat_minor": 0
}
