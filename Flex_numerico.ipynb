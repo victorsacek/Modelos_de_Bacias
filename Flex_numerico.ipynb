{
 "cells": [
  {
   "cell_type": "code",
   "execution_count": null,
   "metadata": {
    "collapsed": false
   },
   "outputs": [],
   "source": [
    "%matplotlib inline\n",
    "from __future__ import division, print_function\n",
    "\n",
    "import numpy as np\n",
    "import matplotlib.pyplot as plt"
   ]
  },
  {
   "cell_type": "markdown",
   "metadata": {},
   "source": [
    "# Solução da equação de flexura por diferenças finitas\n",
    "Agora vamos resolver a equação de flexura \n",
    "$$D \\frac{\\partial^4 w}{\\partial x^4} + \\Delta \\rho g w = p$$\n",
    "numericamente através do método das diferenças finitas:\n",
    "$$D \n",
    "\\frac{w_{i+2} -4w_{i+1} +6w_{i} -4w_{i-1}+w_{i-2}}\n",
    "{\\Delta x^4}\n",
    "+ \\Delta \\rho g w_i = p_i.$$\n",
    "\n",
    "Rearranjando os termos temos:\n",
    "$$D w_{i-2} - 4Dw_{i-1} \n",
    "+ \\left[ 6D + \\Delta x^4 \\Delta \\rho g \\right] w_i\n",
    "- 4Dw_{i-1} + D w_{i-2} = \\Delta x^4 p_i   \n",
    "$$\n",
    "\n",
    "$$\n",
    "\\begin{bmatrix}\n",
    "D & -4D & 6D+\\Delta x^4 \\Delta \\rho g & -4D & D\n",
    "\\end{bmatrix}\n",
    "\\begin{bmatrix}\n",
    "w_{i-2} \\\\ w_{i-1} \\\\ w_i \\\\ w_{i+1} \\\\ w_{i+2}\n",
    "\\end{bmatrix}=\\Delta x^4 p_i\n",
    "$$\n",
    "\n",
    "Combinando as equações, forma-se um sistema linear. Por exemplo, para o caso de 5 pontos temos o seguinte sistema:\n",
    "\n",
    "$$\n",
    "\\begin{bmatrix}\n",
    "6D+\\Delta x^4 \\Delta \\rho g & -4D & D & 0 & 0 \\\\\n",
    "-4D & 6D+\\Delta x^4 \\Delta \\rho g & -4D & D & 0 \\\\\n",
    "D & -4D & 6D+\\Delta x^4 \\Delta \\rho g & -4D & D \\\\\n",
    "0 & D & -4D & 6D+\\Delta x^4 \\Delta \\rho g & -4D \\\\\n",
    "0 & 0 & D & -4D & 6D+\\Delta x^4 \\Delta \\rho g \\\\\n",
    "\\end{bmatrix}\n",
    "\\begin{bmatrix}\n",
    "w_0 \\\\ w_1 \\\\ w_2 \\\\ w_3 \\\\ w_4\n",
    "\\end{bmatrix}=\n",
    "\\Delta x^4\n",
    "\\begin{bmatrix}\n",
    "p_0 \\\\ p_1 \\\\ p_2 \\\\ p_3 \\\\ p_4\n",
    "\\end{bmatrix}\n",
    "$$\n",
    "\n",
    "$$\n",
    "\\textbf{Aw}=\\Delta x^4\\textbf{p}\n",
    "$$\n",
    "\n",
    "O escalar $\\Delta x^4$ poderia ser fundido ao vetor $\\textbf{p}$, mas foi mantido em evidência por clareza."
   ]
  },
  {
   "cell_type": "markdown",
   "metadata": {},
   "source": [
    "# Construção do modelo numérico\n",
    "\n",
    "Primeiramente vamos declarar os parâmetros do modelo e criar o vetor das posições $x$:"
   ]
  },
  {
   "cell_type": "code",
   "execution_count": null,
   "metadata": {
    "collapsed": true
   },
   "outputs": [],
   "source": [
    "drho = 2300.0\n",
    "g = 10.0\n",
    "E = 1.0E11\n",
    "nu = 0.25\n",
    "Te = 10000.0\n",
    "V0 = -1.0E13\n",
    "\n",
    "D = E*Te**3/(12*(1-nu**2))\n",
    "\n",
    "L=1.0E6\n",
    "dx = 5000.0\n",
    "N = int(L/dx + 1)\n",
    "x = np.linspace(-L/2,L/2,N) # np.linspace(x_inicial, x_final, número de pontos)"
   ]
  },
  {
   "cell_type": "markdown",
   "metadata": {},
   "source": [
    "Agora vamos criar a matriz $\\textbf A$ e o vetor $\\textbf p$ usando o método __zeros()__"
   ]
  },
  {
   "cell_type": "code",
   "execution_count": null,
   "metadata": {
    "collapsed": true
   },
   "outputs": [],
   "source": []
  },
  {
   "cell_type": "markdown",
   "metadata": {},
   "source": [
    "Para preencher a matriz $\\textbf A$, podemos utilizar apenas 5 comandos, um para cada uma das diagonais não-nulas da matriz. Por exemplo, para a diagonal principal, todos os elementos irão receber o mesmo valor: $6D+\\Delta x^4 \\Delta \\rho g$\n",
    "\n",
    "$$\n",
    "\\begin{bmatrix}\n",
    "6D+\\Delta x^4 \\Delta \\rho g & . & . & . & . \\\\\n",
    ". & 6D+\\Delta x^4 \\Delta \\rho g & . & . & . \\\\\n",
    ". & . & 6D+\\Delta x^4 \\Delta \\rho g & . & . \\\\\n",
    ". & . & . & 6D+\\Delta x^4 \\Delta \\rho g & . \\\\\n",
    ". & . & . & . & 6D+\\Delta x^4 \\Delta \\rho g \\\\\n",
    "\\end{bmatrix}\n",
    "$$\n",
    "\n",
    "Com a função __range__ todos os elementos da diagonal poderão receber este valor com apenas um comando:\n",
    "\n",
    "```Python\n",
    "A[range(N),range(N)]= 6*D + dx**4*drho*g\n",
    "```\n",
    "\n",
    "Para a primeira diagonal acima da diagonal principal:\n",
    "$$\n",
    "\\begin{bmatrix}\n",
    ". & -4D & . & . & . \\\\\n",
    ". & . & -4D & . & . \\\\\n",
    ". & . & . & -4D & . \\\\\n",
    ". & . & . & . & -4D \\\\\n",
    ". & . & . & . & .   \\\\\n",
    "\\end{bmatrix}\n",
    "$$ \n",
    "podemos usar um procedimento semelhante:\n",
    "```Python\n",
    "A[range(0,N-1),range(1,N)]=-4*D\n",
    "```\n",
    "\n",
    "Usando assim apenas 5 comandos (2 comandos já apresentados + 3 para as outras diagonais), construa a matriz $\\textbf A$ "
   ]
  },
  {
   "cell_type": "code",
   "execution_count": null,
   "metadata": {
    "collapsed": false
   },
   "outputs": [],
   "source": []
  },
  {
   "cell_type": "markdown",
   "metadata": {},
   "source": [
    "Para uma carga concentrada na origem, como vimos para o caso da solução analítica, basta modificar apenas um elemento do vetor $\\textbf p$ relativo ao ponto em $x=0$, representado pelo ponto central: `p[N/2]`. \n",
    "\n",
    "A unidade de $p$ é Pa = N/m$^2$ (força por unidade de área) enquanto que a unidade da carga concentrada $V_0$ é N/m (força por unidade de comprimento). Assim não podemos atribuir o valor de $V_0$ diretamente ao elemento `p[N/2]`.\n",
    "\n",
    "Para haver consistência dimensional, o valor de $V_0$ deve ser dividido pelo espaçamento $\\Delta x$ entre os pontos: `p[N//2]=V0/dx`."
   ]
  },
  {
   "cell_type": "code",
   "execution_count": null,
   "metadata": {
    "collapsed": true
   },
   "outputs": [],
   "source": []
  },
  {
   "cell_type": "markdown",
   "metadata": {},
   "source": [
    "Resta resolver o sistema linear $\\textbf{Aw}=\\Delta x^4\\textbf{p}$ para obter o vetor $\\textbf w$. Para isso use o método `linalg.solve` do `numpy`."
   ]
  },
  {
   "cell_type": "code",
   "execution_count": null,
   "metadata": {
    "collapsed": true
   },
   "outputs": [],
   "source": []
  },
  {
   "cell_type": "markdown",
   "metadata": {},
   "source": [
    "Vamos ver o resultado, plotando $w$ em função de $x$:"
   ]
  },
  {
   "cell_type": "code",
   "execution_count": null,
   "metadata": {
    "collapsed": false
   },
   "outputs": [],
   "source": []
  },
  {
   "cell_type": "markdown",
   "metadata": {},
   "source": [
    "Para verificar se a solução numérica é consistente com a solução analítica, vamos copiar a função da solução analítica do exercício anterior para este notebook:"
   ]
  },
  {
   "cell_type": "code",
   "execution_count": null,
   "metadata": {
    "collapsed": true
   },
   "outputs": [],
   "source": []
  },
  {
   "cell_type": "markdown",
   "metadata": {},
   "source": [
    "Vamos plotar a diferença entre o modelo analítico e o numérico em função de $x$ "
   ]
  },
  {
   "cell_type": "code",
   "execution_count": null,
   "metadata": {
    "collapsed": true
   },
   "outputs": [],
   "source": []
  }
 ],
 "metadata": {
  "kernelspec": {
   "display_name": "Python 2",
   "language": "python",
   "name": "python2"
  },
  "language_info": {
   "codemirror_mode": {
    "name": "ipython",
    "version": 2
   },
   "file_extension": ".py",
   "mimetype": "text/x-python",
   "name": "python",
   "nbconvert_exporter": "python",
   "pygments_lexer": "ipython2",
   "version": "2.7.11"
  }
 },
 "nbformat": 4,
 "nbformat_minor": 0
}
